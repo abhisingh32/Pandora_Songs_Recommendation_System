{
 "cells": [
  {
   "cell_type": "markdown",
   "metadata": {
    "colab_type": "text",
    "id": "8M3Ty9CYSRcm"
   },
   "source": [
    "Import the libraries such as **OS** and **Pandas** to process the file path and files respectively.\n",
    "An important library here is **Surprise** library. It is used here for reading the dataset, perform SVD and also for cross_validation operation."
   ]
  },
  {
   "cell_type": "markdown",
   "metadata": {},
   "source": [
    "# CMPE 256 - Programming assignment - Recommender systems\n",
    "# Abhishek Singh (012566398)"
   ]
  },
  {
   "cell_type": "raw",
   "metadata": {},
   "source": [
    "# Import the libraries such as OS and Pandas to process the file path and files respectively. An important library here is Surprise library. It is used here for reading the dataset, perform SVD and also for cross_validation operation"
   ]
  },
  {
   "cell_type": "code",
   "execution_count": 1,
   "metadata": {
    "colab": {},
    "colab_type": "code",
    "id": "tnpJj8lwQcbO"
   },
   "outputs": [],
   "source": [
    "import os\n",
    "import pandas as pd\n",
    "from surprise import SVD\n",
    "from surprise import Reader\n",
    "from surprise import Dataset\n",
    "from surprise import accuracy\n",
    "from surprise import Reader, Dataset, SVD, evaluate\n",
    "from surprise.model_selection import cross_validate"
   ]
  },
  {
   "cell_type": "markdown",
   "metadata": {
    "colab_type": "text",
    "id": "MtsYoZfjUbca"
   },
   "source": [
    "**train** and **test** CSV  that are provided, are read below to the **df_trainfile** and **df_testfile** dataframes. df_trainfile contains the dataset with **tab seperated values** instead of commma as in typical csv file."
   ]
  },
  {
   "cell_type": "code",
   "execution_count": 2,
   "metadata": {
    "colab": {},
    "colab_type": "code",
    "id": "wDHAcLh_QtIs"
   },
   "outputs": [],
   "source": [
    "# provides teh path to train and test dataset file\n",
    "df_trainfile = pd.read_csv('train.csv')\n",
    "df_testfile = pd.read_csv('test.csv')\n",
    "\n",
    "# converting train dataset from train.csv to tab seperated values train_tab.data\n",
    "df_trainfile.to_csv('train_tab.data', sep='\\t', index=False )"
   ]
  },
  {
   "cell_type": "markdown",
   "metadata": {
    "colab_type": "text",
    "id": "RfAQOdU9UliQ"
   },
   "source": [
    "Fetching the path of the **tab-seperated** data file for further processing by **load_from_file** fuction. **df_test_rt** loads the copy of the test data subsequent **iterations**."
   ]
  },
  {
   "cell_type": "code",
   "execution_count": 3,
   "metadata": {
    "colab": {},
    "colab_type": "code",
    "id": "hzkqP-iwQtN4"
   },
   "outputs": [],
   "source": [
    "# getting the file path\n",
    "# this is required by the load_from_file function \n",
    "file_path_tab = os.path.expanduser('train_tab.data')\n",
    "\n",
    "# keeping a copy of test data\n",
    "df_test_rt = df_testfile"
   ]
  },
  {
   "cell_type": "markdown",
   "metadata": {
    "colab_type": "text",
    "id": "lwAfFGugYwB9"
   },
   "source": [
    "**reader**-> reads the data from file, **sep**-> tells the **seperation** of the data or acts as **delimiter**, seprating two consequtive data blocks."
   ]
  },
  {
   "cell_type": "code",
   "execution_count": 4,
   "metadata": {
    "colab": {},
    "colab_type": "code",
    "id": "JW7fE4xVQtQl"
   },
   "outputs": [],
   "source": [
    "# reader: reads the data and gives label to each column\n",
    "# sep specifies the type of delimeter \n",
    "# rating_scale: specifies the the scale for the prediction\n",
    "data_reader = Reader(line_format='user item rating', sep='\\t', rating_scale=(0, 100))\n",
    "\n",
    "# loads the file content into the surprise library specific format\n",
    "data = Dataset.load_from_file(file_path_tab, reader=data_reader)\n",
    "\n",
    "# Retrieve the trainset.\n",
    "trained_set = data.build_full_trainset()"
   ]
  },
  {
   "cell_type": "markdown",
   "metadata": {
    "colab_type": "text",
    "id": "ggyUDJNYZ0Or"
   },
   "source": [
    "Now we have to** build an algorithm** and train it as well. We will fist load the deafult **SVD** algorithm for that and then train it using the train the algorithm using **trained_set**"
   ]
  },
  {
   "cell_type": "code",
   "execution_count": 5,
   "metadata": {
    "colab": {},
    "colab_type": "code",
    "id": "Nxpd9RePQtTo"
   },
   "outputs": [
    {
     "data": {
      "text/plain": [
       "<surprise.prediction_algorithms.matrix_factorization.SVD at 0x217c884ecc0>"
      ]
     },
     "execution_count": 5,
     "metadata": {},
     "output_type": "execute_result"
    }
   ],
   "source": [
    "# use the algorithm with its default values\n",
    "default_algorithm = SVD()\n",
    "\n",
    "# train the model with trainset\n",
    "default_algorithm.fit(trained_set)"
   ]
  },
  {
   "cell_type": "markdown",
   "metadata": {
    "colab_type": "text",
    "id": "Xq-CeOZdatrx"
   },
   "source": [
    "Since the model is trained now, we will test the model using **Root Mean Sqaure Error(RMSE)** as evaluation metric."
   ]
  },
  {
   "cell_type": "code",
   "execution_count": 6,
   "metadata": {
    "colab": {},
    "colab_type": "code",
    "id": "gDxCf_kLQthG"
   },
   "outputs": [
    {
     "name": "stderr",
     "output_type": "stream",
     "text": [
      "C:\\Users\\Abhishek\\Anaconda3\\lib\\site-packages\\surprise\\evaluate.py:66: UserWarning: The evaluate() method is deprecated. Please use model_selection.cross_validate() instead.\n",
      "  'model_selection.cross_validate() instead.', UserWarning)\n",
      "C:\\Users\\Abhishek\\Anaconda3\\lib\\site-packages\\surprise\\dataset.py:193: UserWarning: Using data.split() or using load_from_folds() without using a CV iterator is now deprecated. \n",
      "  UserWarning)\n"
     ]
    },
    {
     "name": "stdout",
     "output_type": "stream",
     "text": [
      "Evaluating RMSE of algorithm SVD.\n",
      "\n",
      "------------\n",
      "Fold 1\n",
      "RMSE: 16.8412\n",
      "------------\n",
      "Fold 2\n",
      "RMSE: 16.9417\n",
      "------------\n",
      "Fold 3\n",
      "RMSE: 16.7209\n",
      "------------\n",
      "Fold 4\n",
      "RMSE: 16.8589\n",
      "------------\n",
      "Fold 5\n",
      "RMSE: 16.7955\n",
      "------------\n",
      "------------\n",
      "Mean RMSE: 16.8316\n",
      "------------\n",
      "------------\n"
     ]
    },
    {
     "data": {
      "text/plain": [
       "CaseInsensitiveDefaultDict(list,\n",
       "                           {'rmse': [16.841239373881827,\n",
       "                             16.941715256642333,\n",
       "                             16.72089720077727,\n",
       "                             16.858859923724836,\n",
       "                             16.795466306494983]})"
      ]
     },
     "execution_count": 6,
     "metadata": {},
     "output_type": "execute_result"
    }
   ],
   "source": [
    "evaluate(default_algorithm, data, measures=['RMSE'])"
   ]
  },
  {
   "cell_type": "markdown",
   "metadata": {
    "colab_type": "text",
    "id": "OnR7xNsqa_tF"
   },
   "source": [
    "*Create* an empty **list** to store the predicted values. Now the every record is *iterated* for the complete set of test data and *rating* is **predicted** for each **user-track** pair."
   ]
  },
  {
   "cell_type": "code",
   "execution_count": 7,
   "metadata": {
    "colab": {},
    "colab_type": "code",
    "id": "wn8U4TeiQt7x"
   },
   "outputs": [],
   "source": [
    "# list to store the predictions\n",
    "predict_result = {}\n",
    "\n",
    "# iterating row-wise over the test data to predict the ratings for each user-track pair \n",
    "for index, row in df_test_rt.iterrows():\n",
    "\n",
    "    pred = default_algorithm.predict(str(row['User']), str(row['Track']), verbose=False)\n",
    "    predict_result[index] = pred[3]"
   ]
  },
  {
   "cell_type": "markdown",
   "metadata": {
    "colab_type": "text",
    "id": "3R1tUk6rbCH8"
   },
   "source": [
    "New data frame is **created** to load the load the ***result  file in .csv*** file. The new dataframe is formatted in the required format (joining by **hyphen**)"
   ]
  },
  {
   "cell_type": "code",
   "execution_count": 8,
   "metadata": {
    "colab": {},
    "colab_type": "code",
    "id": "iidh7HfjQuA7"
   },
   "outputs": [],
   "source": [
    "# to make additinal copy of dataframe for flexibilty in manipulation\n",
    "df_final = df_test_rt\n",
    "\n",
    "# creating a new dataframe to create a .csv result file\n",
    "df_newdf = pd.DataFrame()\n"
   ]
  },
  {
   "cell_type": "code",
   "execution_count": 9,
   "metadata": {},
   "outputs": [
    {
     "data": {
      "text/html": [
       "<div>\n",
       "<style scoped>\n",
       "    .dataframe tbody tr th:only-of-type {\n",
       "        vertical-align: middle;\n",
       "    }\n",
       "\n",
       "    .dataframe tbody tr th {\n",
       "        vertical-align: top;\n",
       "    }\n",
       "\n",
       "    .dataframe thead th {\n",
       "        text-align: right;\n",
       "    }\n",
       "</style>\n",
       "<table border=\"1\" class=\"dataframe\">\n",
       "  <thead>\n",
       "    <tr style=\"text-align: right;\">\n",
       "      <th></th>\n",
       "      <th>User</th>\n",
       "      <th>Track</th>\n",
       "    </tr>\n",
       "  </thead>\n",
       "  <tbody>\n",
       "    <tr>\n",
       "      <th>0</th>\n",
       "      <td>466</td>\n",
       "      <td>0</td>\n",
       "    </tr>\n",
       "    <tr>\n",
       "      <th>1</th>\n",
       "      <td>1173</td>\n",
       "      <td>0</td>\n",
       "    </tr>\n",
       "    <tr>\n",
       "      <th>2</th>\n",
       "      <td>566</td>\n",
       "      <td>1</td>\n",
       "    </tr>\n",
       "    <tr>\n",
       "      <th>3</th>\n",
       "      <td>49</td>\n",
       "      <td>3</td>\n",
       "    </tr>\n",
       "    <tr>\n",
       "      <th>4</th>\n",
       "      <td>772</td>\n",
       "      <td>3</td>\n",
       "    </tr>\n",
       "  </tbody>\n",
       "</table>\n",
       "</div>"
      ],
      "text/plain": [
       "   User  Track\n",
       "0   466      0\n",
       "1  1173      0\n",
       "2   566      1\n",
       "3    49      3\n",
       "4   772      3"
      ]
     },
     "execution_count": 9,
     "metadata": {},
     "output_type": "execute_result"
    }
   ],
   "source": [
    "# to view the dataframe\n",
    "df_final.head()"
   ]
  },
  {
   "cell_type": "code",
   "execution_count": 10,
   "metadata": {},
   "outputs": [],
   "source": [
    "# Concatenating the '-' as per the requirement\n",
    "df_final['Id'] = df_final['User'].astype(str)+'-'+df_final['Track'].astype(str)"
   ]
  },
  {
   "cell_type": "code",
   "execution_count": 11,
   "metadata": {},
   "outputs": [
    {
     "data": {
      "text/html": [
       "<div>\n",
       "<style scoped>\n",
       "    .dataframe tbody tr th:only-of-type {\n",
       "        vertical-align: middle;\n",
       "    }\n",
       "\n",
       "    .dataframe tbody tr th {\n",
       "        vertical-align: top;\n",
       "    }\n",
       "\n",
       "    .dataframe thead th {\n",
       "        text-align: right;\n",
       "    }\n",
       "</style>\n",
       "<table border=\"1\" class=\"dataframe\">\n",
       "  <thead>\n",
       "    <tr style=\"text-align: right;\">\n",
       "      <th></th>\n",
       "      <th>User</th>\n",
       "      <th>Track</th>\n",
       "      <th>Id</th>\n",
       "    </tr>\n",
       "  </thead>\n",
       "  <tbody>\n",
       "    <tr>\n",
       "      <th>0</th>\n",
       "      <td>466</td>\n",
       "      <td>0</td>\n",
       "      <td>466-0</td>\n",
       "    </tr>\n",
       "    <tr>\n",
       "      <th>1</th>\n",
       "      <td>1173</td>\n",
       "      <td>0</td>\n",
       "      <td>1173-0</td>\n",
       "    </tr>\n",
       "    <tr>\n",
       "      <th>2</th>\n",
       "      <td>566</td>\n",
       "      <td>1</td>\n",
       "      <td>566-1</td>\n",
       "    </tr>\n",
       "    <tr>\n",
       "      <th>3</th>\n",
       "      <td>49</td>\n",
       "      <td>3</td>\n",
       "      <td>49-3</td>\n",
       "    </tr>\n",
       "    <tr>\n",
       "      <th>4</th>\n",
       "      <td>772</td>\n",
       "      <td>3</td>\n",
       "      <td>772-3</td>\n",
       "    </tr>\n",
       "  </tbody>\n",
       "</table>\n",
       "</div>"
      ],
      "text/plain": [
       "   User  Track      Id\n",
       "0   466      0   466-0\n",
       "1  1173      0  1173-0\n",
       "2   566      1   566-1\n",
       "3    49      3    49-3\n",
       "4   772      3   772-3"
      ]
     },
     "execution_count": 11,
     "metadata": {},
     "output_type": "execute_result"
    }
   ],
   "source": [
    "#  to view the dataframe\n",
    "df_final.head()"
   ]
  },
  {
   "cell_type": "markdown",
   "metadata": {
    "colab_type": "text",
    "id": "dnCBMRn6bC8I"
   },
   "source": [
    "Ratings **column** is added to add the predicted **Ratings** alongwith combined **user-track** pair."
   ]
  },
  {
   "cell_type": "code",
   "execution_count": 12,
   "metadata": {
    "colab": {},
    "colab_type": "code",
    "id": "ehtSaTXnQtMo"
   },
   "outputs": [],
   "source": [
    "# adding a column for predicted Ratings alongside the combined user-track pair\n",
    "df_newdf['Id'] = pd.Series(df_final['Id'], index=df_testfile.index, dtype=str)\n",
    "\n",
    "df_newdf['Rating'] = pd.Series(predict_result, index=df_testfile.index, dtype=int)"
   ]
  },
  {
   "cell_type": "code",
   "execution_count": 13,
   "metadata": {},
   "outputs": [
    {
     "data": {
      "text/html": [
       "<div>\n",
       "<style scoped>\n",
       "    .dataframe tbody tr th:only-of-type {\n",
       "        vertical-align: middle;\n",
       "    }\n",
       "\n",
       "    .dataframe tbody tr th {\n",
       "        vertical-align: top;\n",
       "    }\n",
       "\n",
       "    .dataframe thead th {\n",
       "        text-align: right;\n",
       "    }\n",
       "</style>\n",
       "<table border=\"1\" class=\"dataframe\">\n",
       "  <thead>\n",
       "    <tr style=\"text-align: right;\">\n",
       "      <th></th>\n",
       "      <th>Id</th>\n",
       "      <th>Rating</th>\n",
       "    </tr>\n",
       "  </thead>\n",
       "  <tbody>\n",
       "    <tr>\n",
       "      <th>0</th>\n",
       "      <td>466-0</td>\n",
       "      <td>51</td>\n",
       "    </tr>\n",
       "    <tr>\n",
       "      <th>1</th>\n",
       "      <td>1173-0</td>\n",
       "      <td>39</td>\n",
       "    </tr>\n",
       "    <tr>\n",
       "      <th>2</th>\n",
       "      <td>566-1</td>\n",
       "      <td>37</td>\n",
       "    </tr>\n",
       "    <tr>\n",
       "      <th>3</th>\n",
       "      <td>49-3</td>\n",
       "      <td>32</td>\n",
       "    </tr>\n",
       "    <tr>\n",
       "      <th>4</th>\n",
       "      <td>772-3</td>\n",
       "      <td>24</td>\n",
       "    </tr>\n",
       "  </tbody>\n",
       "</table>\n",
       "</div>"
      ],
      "text/plain": [
       "       Id  Rating\n",
       "0   466-0      51\n",
       "1  1173-0      39\n",
       "2   566-1      37\n",
       "3    49-3      32\n",
       "4   772-3      24"
      ]
     },
     "execution_count": 13,
     "metadata": {},
     "output_type": "execute_result"
    }
   ],
   "source": [
    "# to view the dataframe\n",
    "df_newdf.head()"
   ]
  },
  {
   "cell_type": "code",
   "execution_count": 14,
   "metadata": {},
   "outputs": [],
   "source": [
    "# save the dataframe to results.csv - as per the submission format \n",
    "df_newdf.to_csv('MySubmission_012566398_01.csv', index = False)"
   ]
  }
 ],
 "metadata": {
  "colab": {
   "collapsed_sections": [],
   "name": "CmpE256_project1.ipynb",
   "provenance": [],
   "version": "0.3.2"
  },
  "kernelspec": {
   "display_name": "Python 3",
   "language": "python",
   "name": "python3"
  },
  "language_info": {
   "codemirror_mode": {
    "name": "ipython",
    "version": 3
   },
   "file_extension": ".py",
   "mimetype": "text/x-python",
   "name": "python",
   "nbconvert_exporter": "python",
   "pygments_lexer": "ipython3",
   "version": "3.6.5"
  }
 },
 "nbformat": 4,
 "nbformat_minor": 1
}
